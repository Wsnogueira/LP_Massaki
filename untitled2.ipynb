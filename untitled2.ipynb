{
  "nbformat": 4,
  "nbformat_minor": 0,
  "metadata": {
    "colab": {
      "provenance": [],
      "authorship_tag": "ABX9TyNNKaO4Cfqyvj6CF7OwPLe+",
      "include_colab_link": true
    },
    "kernelspec": {
      "name": "python3",
      "display_name": "Python 3"
    },
    "language_info": {
      "name": "python"
    }
  },
  "cells": [
    {
      "cell_type": "markdown",
      "metadata": {
        "id": "view-in-github",
        "colab_type": "text"
      },
      "source": [
        "<a href=\"https://colab.research.google.com/github/Wsnogueira/LP_Massaki/blob/main/untitled2.ipynb\" target=\"_parent\"><img src=\"https://colab.research.google.com/assets/colab-badge.svg\" alt=\"Open In Colab\"/></a>"
      ]
    },
    {
      "cell_type": "markdown",
      "source": [
        "#Exercício 0.5\n"
      ],
      "metadata": {
        "id": "4HZgfeJFKPzd"
      }
    },
    {
      "cell_type": "code",
      "execution_count": null,
      "metadata": {
        "id": "5rDZTrdEINOp"
      },
      "outputs": [],
      "source": []
    },
    {
      "cell_type": "code",
      "source": [
        "#Polegada\n",
        "\n",
        "\n",
        "#O valor 1 polegada equivale 25.4\n",
        "\n",
        "P= float(input(\"Digite uma polegada  \"))\n",
        "mm= P *25.4\n",
        "print(\"O valor em polegada é   {}\".format(mm))"
      ],
      "metadata": {
        "colab": {
          "base_uri": "https://localhost:8080/"
        },
        "id": "GjXrFxsrJaRf",
        "outputId": "84317ae6-98b7-49d2-99cc-ac09650939d2"
      },
      "execution_count": 5,
      "outputs": [
        {
          "output_type": "stream",
          "name": "stdout",
          "text": [
            "Digite uma polegada  22\n",
            "O valor em polegada é   558.8\n"
          ]
        }
      ]
    },
    {
      "cell_type": "markdown",
      "source": [
        "#**Bora praticar**\n",
        "\n"
      ],
      "metadata": {
        "id": "j8V9l0sYKc3H"
      }
    },
    {
      "cell_type": "code",
      "source": [
        "#Matemática com esferas\n",
        "\n",
        "\n",
        "from math import pi\n",
        "\n",
        "raio= float(input(\"Digite o raio de uma esfera  \"))\n",
        "v=4/3*pi*(raio**3)\n",
        "print(\"O volume do raio de uma esfera é {}\".format(v))\n"
      ],
      "metadata": {
        "id": "O6Uz65u4PYuA",
        "outputId": "bc677224-8ab3-4874-b6fe-276038dd6a9f",
        "colab": {
          "base_uri": "https://localhost:8080/"
        }
      },
      "execution_count": 9,
      "outputs": [
        {
          "output_type": "stream",
          "name": "stdout",
          "text": [
            "Digite o raio de uma esfera  45\n",
            "O volume do raio de uma esfera é 381703.5074111598\n"
          ]
        }
      ]
    },
    {
      "cell_type": "markdown",
      "source": [
        "#**Praticando ainda...**"
      ],
      "metadata": {
        "id": "-O3SaO2ZRYv2"
      }
    },
    {
      "cell_type": "code",
      "source": [
        "import math\n",
        "\n",
        "# (radianos) × 180 ° / π\n",
        "\n",
        "x= float(input(\"Digite o valor em graus \"))\n",
        "ang=math.radians(x)\n",
        "print(\"O valor em radianos é de {}\".format(ang))"
      ],
      "metadata": {
        "id": "qbj5nCQ-R1ew",
        "outputId": "7c35b006-0463-47e5-e310-408e5bf4c317",
        "colab": {
          "base_uri": "https://localhost:8080/"
        }
      },
      "execution_count": 16,
      "outputs": [
        {
          "output_type": "stream",
          "name": "stdout",
          "text": [
            "Digite o valor em graus 180\n",
            "O valor em radianos é de 3.141592653589793\n"
          ]
        }
      ]
    },
    {
      "cell_type": "markdown",
      "source": [
        "#**Continuando :(**"
      ],
      "metadata": {
        "id": "mOMDbMzPVoYU"
      }
    },
    {
      "cell_type": "code",
      "source": [
        "import numpy as np\n",
        "\n",
        "\n",
        "x= float(input(\"Digite o valor em radianos \"))\n",
        "rad_= np.degrees(x)\n",
        "\n",
        "print(\"O valor em graus é de {} xxxx\".format(rad_))\n"
      ],
      "metadata": {
        "id": "DciUEukrVwXU",
        "outputId": "3c43bd08-a966-4672-932f-f370be06c334",
        "colab": {
          "base_uri": "https://localhost:8080/"
        }
      },
      "execution_count": 23,
      "outputs": [
        {
          "output_type": "stream",
          "name": "stdout",
          "text": [
            "Digite o valor em radianos 6\n",
            "O valor em graus é de 343.77467707849394 xxxx\n"
          ]
        }
      ]
    },
    {
      "cell_type": "markdown",
      "source": [
        "#**CHORA BATISTA**"
      ],
      "metadata": {
        "id": "1i_7KdVZWqRz"
      }
    },
    {
      "cell_type": "code",
      "source": [
        "import numpy as np\n",
        "\n",
        "\n",
        "x= float(input(\"Digite o valor em radianos \"))\n",
        "grad= x*63.661977236758\n",
        "print(\"O valor em graus é de {}\".format(grad))"
      ],
      "metadata": {
        "id": "hk9FfTPYWz5c",
        "outputId": "3a9df5a5-c5d9-4a22-e234-70e7d56f8522",
        "colab": {
          "base_uri": "https://localhost:8080/"
        }
      },
      "execution_count": 21,
      "outputs": [
        {
          "output_type": "stream",
          "name": "stdout",
          "text": [
            "Digite o valor em radianos 45\n",
            "O valor em graus é de 2864.78897565411\n"
          ]
        }
      ]
    }
  ]
}